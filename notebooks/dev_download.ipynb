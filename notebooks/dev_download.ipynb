{
 "cells": [
  {
   "cell_type": "markdown",
   "metadata": {},
   "source": [
    "# Data Sourcing\n",
    "\n",
    "## Option 1: SEC Filing\n",
    "\n",
    "In the below code, I outline a function that delivers the \"background inoformation\" from schedule 13D of beneficial ownership to a given company. This code primarily leverages [sec-edgar-downloader](https://github.com/jadchaar/sec-edgar-downloader). The inputs are:\n",
    "- TICKER: The code of a company (i.e. APPL for Apple Inc.)\n",
    "- AMOUNT: The number of most recent filings\n",
    "\n",
    "#TOD\n",
    "- FILING: The desired filing code. For now, we only have parsing for a specific filing: schedule 13D."
   ]
  },
  {
   "cell_type": "code",
   "execution_count": null,
   "metadata": {},
   "outputs": [],
   "source": [
    "# SEC Data collection\n",
    "from sec_edgar_downloader import Downloader\n",
    "import glob\n",
    "from bs4 import BeautifulSoup\n",
    "import re\n",
    "\n",
    "def text_extract_13D(path):\n",
    "    \"\"\"\n",
    "    This function strips Item 2. from SEC schedule 13D. This section reports on the Identity and Background of individuals with \n",
    "    controlling shares of a given organization.\n",
    "\n",
    "    Inputs:\n",
    "    - path: the path to a downloaded filing\n",
    "\n",
    "    Output:\n",
    "    - text (str): The extracted text from this section of the filing\n",
    "    \"\"\"\n",
    "    with open(path, 'r') as infile:\n",
    "        text = infile.read()\n",
    "    soup = BeautifulSoup(text)\n",
    "    for script in soup([\"script\", \"style\"]):\n",
    "        script.extract()\n",
    "    text = soup.get_text()\n",
    "    lines = (line.strip() for line in text.splitlines())\n",
    "    chunks = (phrase.strip() for line in lines for phrase in line.split(\"  \"))\n",
    "    text = '\\n'.join(chunk for chunk in chunks if chunk)\n",
    "    pattern = r\"(?<=Identity and Background)(?s:.)*(?=Source and Amount of Funds)\"\n",
    "    match = re.search(pattern, text)\n",
    "    output = match[0] if match else \"\"\n",
    "    return output\n",
    "\n",
    "def get_id_and_background(ticker, amount=1, filing_type=\"SC 13D\",download_path=\"/tmp\"):\n",
    "    \"\"\"\n",
    "    input: \n",
    "    - ticker (str): The ticker code of a company (e.g. APPL)\n",
    "    - amount (int): Amount of recent filings \n",
    "    - filing: MUST BE 13D FOR NOW\n",
    "    - download_path: Storage of SEC Download (this does not have error handling)\n",
    "\n",
    "    output:\n",
    "    text_blobs (list): A list of text blobs of the given amount of filings. Some of these may be empty\n",
    "    \"\"\"\n",
    "    dl = Downloader(download_path)\n",
    "    dl.get(filing_type, ticker, amount = amount)\n",
    "    htmls = glob.glob(f\"/tmp/sec-edgar-filings/{ticker}/{filing_type}/*/*.html\")\n",
    "    text_blobs = []\n",
    "    for html in htmls:\n",
    "        text_blobs.append(text_extract_13D(html))\n",
    "    return text_blobs  \n",
    "\n",
    "get_id_and_background(\"V\")"
   ]
  },
  {
   "cell_type": "markdown",
   "metadata": {},
   "source": [
    "# Option 2: Source from a RSS feed of news articles\n",
    "\n",
    "One such easy to access database is [BBC news dataset on Kaggle](https://www.kaggle.com/hgultekin/bbcnewsarchive)."
   ]
  }
 ],
 "metadata": {
  "interpreter": {
   "hash": "27e540b88240bf3fbbaffefb089750482d49d2bf4bc5c03785510169df38391e"
  },
  "kernelspec": {
   "display_name": "Python 3.7.12 64-bit ('.venv': poetry)",
   "language": "python",
   "name": "python3"
  },
  "language_info": {
   "codemirror_mode": {
    "name": "ipython",
    "version": 3
   },
   "file_extension": ".py",
   "mimetype": "text/x-python",
   "name": "python",
   "nbconvert_exporter": "python",
   "pygments_lexer": "ipython3",
   "version": "3.7.12"
  },
  "orig_nbformat": 4
 },
 "nbformat": 4,
 "nbformat_minor": 2
}
